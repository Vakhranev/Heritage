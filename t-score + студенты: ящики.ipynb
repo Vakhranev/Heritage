{
  "nbformat": 4,
  "nbformat_minor": 0,
  "metadata": {
    "colab": {
      "provenance": [],
      "authorship_tag": "ABX9TyNRcTLDYQfwIvZVJbzxmBnQ",
      "include_colab_link": true
    },
    "kernelspec": {
      "name": "python3",
      "display_name": "Python 3"
    },
    "language_info": {
      "name": "python"
    }
  },
  "cells": [
    {
      "cell_type": "markdown",
      "metadata": {
        "id": "view-in-github",
        "colab_type": "text"
      },
      "source": [
        "<a href=\"https://colab.research.google.com/github/Vakhranev/Heritage/blob/main/t-score%20%2B%20%D1%81%D1%82%D1%83%D0%B4%D0%B5%D0%BD%D1%82%D1%8B%3A%20%D1%8F%D1%89%D0%B8%D0%BA%D0%B8.ipynb\" target=\"_parent\"><img src=\"https://colab.research.google.com/assets/colab-badge.svg\" alt=\"Open In Colab\"/></a>"
      ]
    },
    {
      "cell_type": "code",
      "source": [
        "import pandas as pd\n",
        "\n",
        "# Загрузка данных из CSV файла\n",
        "df = pd.read_csv('sorted_bigrams_unique_t_score.csv')\n",
        "\n",
        "# Удаление повторяющихся строк\n",
        "df.drop_duplicates(inplace=True)\n",
        "\n",
        "# Сохранение изменений в файле\n",
        "df.to_csv('sorted_bigrams_unique_t_score.csv', index=False)"
      ],
      "metadata": {
        "id": "JWfEnbwMElfG"
      },
      "execution_count": null,
      "outputs": []
    },
    {
      "cell_type": "code",
      "source": [
        "import json\n",
        "import pandas as pd\n",
        "from tqdm import tqdm\n",
        "\n",
        "# Загрузка данных из файла с частотами униграмм\n",
        "with open('cococo_unigram_freq_fixed.json', 'r', encoding='utf-8') as file:\n",
        "    unigrams_dict = json.load(file)\n",
        "\n",
        "# Загрузка данных из CSV файла\n",
        "df = pd.read_csv('sorted_bigrams_unique_t_score.csv')\n",
        "\n",
        "# Преобразование данных в словарь\n",
        "bigrams_dict = dict(zip(df['Bigram'], df['T_Score']))\n",
        "\n",
        "# Функция для пересчёта t-score\n",
        "def calc_t_score(bigrams_dict, unigrams_dict):\n",
        "    N = sum(bigrams_dict.values())\n",
        "    bigram_t = {}\n",
        "    max_tscore = 0\n",
        "    p_bar = tqdm(desc=\"calculate t-score\", total=len(bigrams_dict))\n",
        "    for bigram, count in bigrams_dict.items():\n",
        "        w1, w2 = bigram.split()\n",
        "        unigram_freq_w1 = unigrams_dict.get(w1, 0)\n",
        "        unigram_freq_w2 = unigrams_dict.get(w2, 0)\n",
        "        if count == 0 or unigram_freq_w1 == 0 or unigram_freq_w2 == 0:\n",
        "            # Пропускаем биграммы с нулевым количеством или нулевой частотой униграмм\n",
        "            continue\n",
        "        E_xy = (unigram_freq_w1 + unigram_freq_w2) / N\n",
        "        t_score = abs((count - E_xy) / (count ** 0.5)) # Берем абсолютное значение разницы\n",
        "        bigram_t[bigram] = t_score\n",
        "        if t_score > max_tscore:\n",
        "            max_tscore = t_score\n",
        "        p_bar.update()\n",
        "    bigram_t = {bigram: bigram_t[bigram] / max_tscore for bigram in sorted(bigram_t, key=bigram_t.get, reverse=True)} # sort and normalize\n",
        "    return bigram_t\n",
        "\n",
        "# Применение функции к данным\n",
        "result = calc_t_score(bigrams_dict, unigrams_dict)\n",
        "\n",
        "# Преобразование результата в DataFrame\n",
        "result_df = pd.DataFrame({'Bigram': list(result.keys()), 'T_Score': list(result.values())})\n",
        "\n",
        "# Сохранение результата в файл\n",
        "result_df.to_csv('sorted_bigrams_unique_t_score_normalized.csv', index=False)"
      ],
      "metadata": {
        "id": "-ecGa0SOGS4R",
        "outputId": "b02d4e12-b81f-4936-9e66-ae188adb0c32",
        "colab": {
          "base_uri": "https://localhost:8080/"
        }
      },
      "execution_count": null,
      "outputs": [
        {
          "output_type": "stream",
          "name": "stderr",
          "text": [
            "calculate t-score:  88%|████████▊ | 3651/4160 [00:00<00:00, 222746.90it/s]\n"
          ]
        }
      ]
    },
    {
      "cell_type": "code",
      "source": [
        "import json\n",
        "import pandas as pd\n",
        "import matplotlib.pyplot as plt\n",
        "\n",
        "# Чтение файла sorted_bigrams_unique_t_score_normalized.csv\n",
        "df = pd.read_csv('sorted_bigrams_unique_t_score_normalized.csv')\n",
        "\n",
        "# Чтение файла america_texts.json\n",
        "mmr_data = {}\n",
        "with open('america_texts.json', 'r') as file:\n",
        "    mrr_texts_data = json.load(file)\n",
        "    for text_name, text_info in mrr_texts_data.items():\n",
        "        mmr_rank_unique = text_info.get('mmr_t_score_unique', 0)\n",
        "        mmr_data[text_name] = mmr_rank_unique\n",
        "\n",
        "# Чтение файла files_by_levels.txt\n",
        "files_by_levels = {'LEVEL 2': [], 'LEVEL 3': [], 'LEVEL 4': []}\n",
        "with open('files_by_levels.txt', 'r') as file:\n",
        "    current_level = None\n",
        "    for line in file:\n",
        "        line = line.strip()\n",
        "        if line.startswith('LEVEL'):\n",
        "            current_level = line\n",
        "        elif line:\n",
        "            files_by_levels[current_level].append(line)\n",
        "\n",
        "# Чтение файла lib_texts.json\n",
        "lib_texts = {}\n",
        "with open('lib_texts.json', 'r') as file:\n",
        "    lib_texts_data = json.load(file)\n",
        "    for text_name, text_info in lib_texts_data.items():\n",
        "        mmr_rank_unique = text_info.get('mmr_t_score_unique', 0)\n",
        "        lib_texts[text_name] = mmr_rank_unique\n",
        "\n",
        "# Чтение файла lib_random_texts.json\n",
        "lib_random_texts = {}\n",
        "with open('lib_random_texts.json', 'r') as file:\n",
        "    lib_random_texts_data = json.load(file)\n",
        "    for text_name, text_info in lib_random_texts_data.items():\n",
        "        temporal_text_name = text_name + \"_\"\n",
        "        for text_type, text_other in text_info.items():\n",
        "            if text_type == 'random_texts':\n",
        "                for text_number, text_else in text_other.items():\n",
        "                    temporal_text_name += text_number\n",
        "                    mmr_rank_unique = text_else.get('mmr_t_score_unique')\n",
        "                    lib_random_texts[temporal_text_name] = mmr_rank_unique\n",
        "                    temporal_text_name = text_name + \"_\"\n",
        "\n",
        "# Построение диаграммы\n",
        "plt.figure(figsize=(10, 6))\n",
        "\n",
        "# Сбор данных для ящиков с усами из files_by_levels\n",
        "data_to_plot = []\n",
        "labels_to_plot = []\n",
        "for level, files in files_by_levels.items():\n",
        "    data = []\n",
        "    for file in files:\n",
        "        if file in mmr_data:\n",
        "            data.append(mmr_data[file])\n",
        "    data_to_plot.append(data)\n",
        "    labels_to_plot.append(level)\n",
        "\n",
        "# Сбор данных для ящиков с усами из lib_texts\n",
        "data_to_plot.append(list(lib_texts.values()))\n",
        "labels_to_plot.append('lib_texts')\n",
        "\n",
        "# Сбор данных для ящиков с усами из lib_random_texts\n",
        "data_to_plot.append(list(lib_random_texts.values()))\n",
        "labels_to_plot.append('lib_random_texts')\n",
        "\n",
        "# Рассчитываем средний t-score для файла sorted_bigrams_unique_t_score_normalized.csv\n",
        "average_t_score = df['T_Score'].mean()\n",
        "\n",
        "# Добавляем средний t-score в данные для построения диаграммы\n",
        "data_to_plot.append([average_t_score])\n",
        "labels_to_plot.append('best t-scores')\n",
        "\n",
        "# Обновление словаря цветов для новой легенды\n",
        "levels_colors = {\n",
        "    'LEVEL 2': 'blue',\n",
        "    'LEVEL 3': 'green',\n",
        "    'LEVEL 4': 'red',\n",
        "    'lib_texts': 'orange',\n",
        "    'lib_random_texts': 'purple',\n",
        "    'best t-scores': 'gray'\n",
        "}\n",
        "\n",
        "# Построение ящиков с усами\n",
        "bp = plt.boxplot(data_to_plot, patch_artist=True)\n",
        "\n",
        "# Цвет каждого ящика\n",
        "colors = [levels_colors[level] for level in labels_to_plot]\n",
        "\n",
        "# Задаем цвета ящиков\n",
        "for patch, color in zip(bp['boxes'], colors):\n",
        "    patch.set_facecolor(color)\n",
        "\n",
        "# Новые метки для легенды\n",
        "new_labels = {\n",
        "    'LEVEL 2': \"Students' texts, level 2\",\n",
        "    'LEVEL 3': \"Students' texts, level 3\",\n",
        "    'LEVEL 4': \"Students' texts, level 4\",\n",
        "    'lib_texts': \"L1 fiction narratives\",\n",
        "    'lib_random_texts': \"Random word sequences\",\n",
        "    'best t-scores': \"Best t-scores\"\n",
        "}\n",
        "\n",
        "# Добавление легенды\n",
        "legend_handles = [plt.Rectangle((0,0),1,1, color=levels_colors[label]) for label in labels_to_plot]\n",
        "plt.legend(legend_handles, [new_labels[label] for label in labels_to_plot])\n",
        "\n",
        "# Удаление подписей с оси x\n",
        "plt.xticks([])\n",
        "\n",
        "# Показать диаграмму\n",
        "plt.show()"
      ],
      "metadata": {
        "colab": {
          "base_uri": "https://localhost:8080/",
          "height": 499
        },
        "id": "PPoN-HFp-K9p",
        "outputId": "1e75ca1e-c21b-4a12-d77c-a2bfe5506317"
      },
      "execution_count": 1,
      "outputs": [
        {
          "output_type": "display_data",
          "data": {
            "text/plain": [
              "<Figure size 1000x600 with 1 Axes>"
            ],
            "image/png": "[encoded data removed]"
          },
          "metadata": {}
        }
      ]
    },
    {
      "cell_type": "code",
      "source": [
        "# Подсчёт пограничных значений без учёта выбросов для каждого уровня\n",
        "for i, data in enumerate(data_to_plot[:3]):\n",
        "    q1 = pd.Series(data).quantile(0.25)\n",
        "    q3 = pd.Series(data).quantile(0.75)\n",
        "    iqr = q3 - q1\n",
        "    lower_bound = q1 - 1.5 * iqr\n",
        "    upper_bound = q3 + 1.5 * iqr\n",
        "    outliers = [value for value in data if value < lower_bound or value > upper_bound]\n",
        "    non_outliers = [value for value in data if value >= lower_bound and value <= upper_bound]\n",
        "    print(f\"LEVEL {i+2} (without outliers):\")\n",
        "    print(f\"Lower Bound: {lower_bound}, Upper Bound: {upper_bound}\")\n",
        "    print(f\"Outliers: {outliers}\")\n",
        "    print(f\"Non-outliers: {non_outliers}\\n\")"
      ],
      "metadata": {
        "id": "0VjY3u8Jf4y8",
        "outputId": "42ab8d5c-af36-4895-861e-6a450cb88e01",
        "colab": {
          "base_uri": "https://localhost:8080/"
        }
      },
      "execution_count": null,
      "outputs": [
        {
          "output_type": "stream",
          "name": "stdout",
          "text": [
            "LEVEL 2 (without outliers):\n",
            "Lower Bound: 0.029406647520939827, Upper Bound: 0.09813460969668178\n",
            "Outliers: [0.10208876448191229]\n",
            "Non-outliers: [0.04416102778971158, 0.09188216631266351, 0.05993666281461927, 0.06197428872007017, 0.08365550670186747, 0.06335419860197582, 0.06672125641061953, 0.05581244070873723, 0.07118307368967633, 0.06445105686208505, 0.040643357114606246, 0.06051549350992506, 0.04860735260095526, 0.07370827947509422, 0.06089672418274194, 0.07708493896033747, 0.051164923492866776, 0.035552390202333944, 0.07191273868267332, 0.05328121122116054, 0.08786869405286014, 0.06713535279066533, 0.06172747960717345]\n",
            "\n",
            "LEVEL 3 (without outliers):\n",
            "Lower Bound: 0.037224359231344435, Upper Bound: 0.10559436553388613\n",
            "Outliers: []\n",
            "Non-outliers: [0.06472554178654498, 0.0848536793951305, 0.07015206094280078, 0.0512594574891066, 0.09215089804019501, 0.057275821019555334, 0.07832292442886717, 0.06763989718063515]\n",
            "\n",
            "LEVEL 4 (without outliers):\n",
            "Lower Bound: 0.040204644455687416, Upper Bound: 0.093965010571183\n",
            "Outliers: [0.09902263327511442]\n",
            "Non-outliers: [0.07381815584840735, 0.069480511603678, 0.07232215037529942, 0.06352613437778117, 0.049035653664093584, 0.07425469289668869, 0.06246812182496512, 0.06567903367169697, 0.07995269270182136, 0.08250832475535509, 0.06397780563741148, 0.07082641714855552, 0.05331550033379914, 0.07734519249942623, 0.06703166922171422, 0.054478027214470794, 0.0677839959677933, 0.05966366839034265, 0.047580481961473076, 0.07812937057579546, 0.07575810762388145, 0.0662408591044945, 0.053978035459959404, 0.07376502556626656, 0.04418639001655464, 0.07397023539344603, 0.06800953879947484, 0.06281202540491834, 0.06871184351408875, 0.07591802488394331, 0.05516739348554796, 0.06377153978466463, 0.04911459307765541, 0.06678197403375287, 0.07142715771791643, 0.0656539642137982, 0.06787404859752716, 0.049521997131965874, 0.07806731060875628, 0.059002563227728996, 0.06742416060938929]\n",
            "\n"
          ]
        }
      ]
    }
  ]
}