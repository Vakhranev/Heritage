{
  "nbformat": 4,
  "nbformat_minor": 0,
  "metadata": {
    "colab": {
      "provenance": [],
      "authorship_tag": "ABX9TyO+abIvheipYzBB7pmUrA6r",
      "include_colab_link": true
    },
    "kernelspec": {
      "name": "python3",
      "display_name": "Python 3"
    },
    "language_info": {
      "name": "python"
    }
  },
  "cells": [
    {
      "cell_type": "markdown",
      "metadata": {
        "id": "view-in-github",
        "colab_type": "text"
      },
      "source": [
        "<a href=\"https://colab.research.google.com/github/Vakhranev/Heritage/blob/main/t-score%20%2B%20%D1%81%D1%82%D1%83%D0%B4%D0%B5%D0%BD%D1%82%D1%8B%3A%20%D1%8F%D1%89%D0%B8%D0%BA%D0%B8.ipynb\" target=\"_parent\"><img src=\"https://colab.research.google.com/assets/colab-badge.svg\" alt=\"Open In Colab\"/></a>"
      ]
    },
    {
      "cell_type": "code",
      "source": [
        "import json\n",
        "import matplotlib.pyplot as plt\n",
        "\n",
        "# Чтение файла america_texts.json\n",
        "mmr_data = {}\n",
        "with open('america_texts.json', 'r') as file:\n",
        "    mrr_texts_data = json.load(file)\n",
        "    for text_name, text_info in mrr_texts_data.items():\n",
        "        mmr_rank_unique = text_info.get('mmr_t_score_unique', 0)\n",
        "        mmr_data[text_name] = mmr_rank_unique\n",
        "\n",
        "# Чтение файла files_by_levels.txt\n",
        "files_by_levels = {'LEVEL 2': [], 'LEVEL 3': [], 'LEVEL 4': []}\n",
        "with open('files_by_levels.txt', 'r') as file:\n",
        "    current_level = None\n",
        "    for line in file:\n",
        "        line = line.strip()\n",
        "        if line.startswith('LEVEL'):\n",
        "            current_level = line\n",
        "        elif line:\n",
        "            files_by_levels[current_level].append(line)\n",
        "\n",
        "# Чтение файла lib_texts.json\n",
        "lib_texts = {}\n",
        "with open('lib_texts.json', 'r') as file:\n",
        "    lib_texts_data = json.load(file)\n",
        "    for text_name, text_info in lib_texts_data.items():\n",
        "        mmr_rank_unique = text_info.get('mmr_t_score_unique', 0)\n",
        "        lib_texts[text_name] = mmr_rank_unique\n",
        "\n",
        "# Чтение файла lib_random_texts.json\n",
        "lib_random_texts = {}\n",
        "with open('lib_random_texts.json', 'r') as file:\n",
        "    lib_random_texts_data = json.load(file)\n",
        "    for text_name, text_info in lib_random_texts_data.items():\n",
        "        temporal_text_name = text_name + \"_\"\n",
        "        for text_type, text_other in text_info.items():\n",
        "            if text_type == 'random_texts':\n",
        "                for text_number, text_else in text_other.items():\n",
        "                    temporal_text_name += text_number\n",
        "                    mmr_rank_unique = text_else.get('mmr_t_score_unique')\n",
        "                    lib_random_texts[temporal_text_name] = mmr_rank_unique\n",
        "                    temporal_text_name = text_name + \"_\"\n",
        "\n",
        "# Теперь у нас есть данные из всех файлов. Мы можем начать построение диаграммы.\n",
        "\n",
        "# Получение уровней и их соответствующих цветов\n",
        "levels_colors = {'LEVEL 2': 'blue', 'LEVEL 3': 'green', 'LEVEL 4': 'red', 'lib_texts': 'orange', 'lib_random_texts': 'purple'}\n",
        "\n",
        "# Построение диаграммы\n",
        "plt.figure(figsize=(10, 6))\n",
        "\n",
        "# Сбор данных для ящиков с усами из files_by_levels\n",
        "data_to_plot = []\n",
        "labels_to_plot = []\n",
        "for level, files in files_by_levels.items():\n",
        "    data_to_plot.append([mmr_data[file] for file in files])\n",
        "    labels_to_plot.append(level)\n",
        "\n",
        "# Сбор данных для ящиков с усами из lib_texts\n",
        "data_to_plot.append(list(lib_texts.values()))\n",
        "labels_to_plot.append('lib_texts')\n",
        "\n",
        "# Сбор данных для ящиков с усами из lib_random_texts\n",
        "data_to_plot.append(list(lib_random_texts.values()))\n",
        "labels_to_plot.append('lib_random_texts')\n",
        "\n",
        "# Построение ящиков с усами\n",
        "bp = plt.boxplot(data_to_plot, patch_artist=True)\n",
        "\n",
        "# Цвет каждого ящика\n",
        "colors = [levels_colors[level] for level in labels_to_plot]\n",
        "\n",
        "# Задаем цвета ящиков\n",
        "for patch, color in zip(bp['boxes'], colors):\n",
        "    patch.set_facecolor(color)\n",
        "\n",
        "# Добавление легенды\n",
        "legend_handles = [plt.Rectangle((0,0),1,1, color=levels_colors[label]) for label in labels_to_plot]\n",
        "plt.legend(legend_handles, labels_to_plot)\n",
        "\n",
        "# Удаление подписей с оси x\n",
        "plt.xticks([])\n",
        "\n",
        "# Показать диаграмму\n",
        "plt.show()"
      ],
      "metadata": {
        "colab": {
          "base_uri": "https://localhost:8080/",
          "height": 499
        },
        "id": "PPoN-HFp-K9p",
        "outputId": "c40171b8-a857-40b6-dba7-589e12e78f1d"
      },
      "execution_count": 4,
      "outputs": [
        {
          "output_type": "display_data",
          "data": {
            "text/plain": [
              "<Figure size 1000x600 with 1 Axes>"
            ],
            "image/png": "[encoded data removed]"
          },
          "metadata": {}
        }
      ]
    }
  ]
}