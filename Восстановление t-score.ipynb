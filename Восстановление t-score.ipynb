{
  "nbformat": 4,
  "nbformat_minor": 0,
  "metadata": {
    "colab": {
      "provenance": [],
      "authorship_tag": "ABX9TyNH8WKheQA9XSByDYPm9tmh",
      "include_colab_link": true
    },
    "kernelspec": {
      "name": "python3",
      "display_name": "Python 3"
    },
    "language_info": {
      "name": "python"
    }
  },
  "cells": [
    {
      "cell_type": "markdown",
      "metadata": {
        "id": "view-in-github",
        "colab_type": "text"
      },
      "source": [
        "<a href=\"https://colab.research.google.com/github/Vakhranev/Heritage/blob/main/%D0%92%D0%BE%D1%81%D1%81%D1%82%D0%B0%D0%BD%D0%BE%D0%B2%D0%BB%D0%B5%D0%BD%D0%B8%D0%B5%20t-score.ipynb\" target=\"_parent\"><img src=\"https://colab.research.google.com/assets/colab-badge.svg\" alt=\"Open In Colab\"/></a>"
      ]
    },
    {
      "cell_type": "code",
      "source": [
        "import zipfile\n",
        "\n",
        "with zipfile.ZipFile('Архив.zip', 'r') as zip_ref:\n",
        "    zip_ref.extractall()"
      ],
      "metadata": {
        "id": "_fmJlmX7z3sR"
      },
      "execution_count": null,
      "outputs": []
    },
    {
      "cell_type": "code",
      "execution_count": null,
      "metadata": {
        "id": "eFBcvW3booNL",
        "colab": {
          "base_uri": "https://localhost:8080/"
        },
        "outputId": "35cac048-3f67-43b0-c93f-49bb09617b41"
      },
      "outputs": [
        {
          "output_type": "stream",
          "name": "stderr",
          "text": [
            "<ipython-input-6-99f88ecfbed5>:6: DtypeWarning: Columns (1) have mixed types. Specify dtype option on import or set low_memory=False.\n",
            "  bigram_df = pd.read_csv(bigram_freq_file, sep=';')\n"
          ]
        }
      ],
      "source": [
        "import pandas as pd\n",
        "import json\n",
        "\n",
        "def calculate_t_score(bigram_freq_file, unigram_freq_file, output_json):\n",
        "    # Загрузка данных\n",
        "    bigram_df = pd.read_csv(bigram_freq_file, sep=';')\n",
        "    unigram_df = pd.read_csv(unigram_freq_file, sep=';')\n",
        "\n",
        "    # Преобразование в словари\n",
        "    # Convert 't_score' column to numeric using pd.to_numeric\n",
        "    bigram_df['t_score'] = pd.to_numeric(bigram_df['t_score'], errors='coerce')\n",
        "    bigram_dict = dict(zip(bigram_df['bigram'], bigram_df['t_score']))\n",
        "    unigram_dict = dict(zip(unigram_df['unigram_value'], unigram_df['unigram_freq']))\n",
        "\n",
        "    # Рассчет t-score для биграмм\n",
        "    t_scores = {}\n",
        "    for bigram, t_score in bigram_dict.items():\n",
        "        word1, word2 = bigram.split()\n",
        "        freq_word1 = unigram_dict.get(word1, 1)  # Если нет в списке, считаем как 1\n",
        "        freq_word2 = unigram_dict.get(word2, 1)\n",
        "        adjusted_t_score = t_score / (freq_word1 * freq_word2) ** 0.5\n",
        "        t_scores[bigram] = adjusted_t_score\n",
        "\n",
        "    # Сохранение в JSON\n",
        "    with open(output_json, 'w', encoding='utf-8') as f:\n",
        "        json.dump(t_scores, f, ensure_ascii=False, indent=4)\n",
        "\n",
        "# Пример вызова\n",
        "calculate_t_score('cococo_bigram_freq.csv', 'cococo_unigram_freq.csv', 't_scores.json')"
      ]
    },
    {
      "cell_type": "code",
      "source": [
        "!zip -r t_scores.zip /content/"
      ],
      "metadata": {
        "colab": {
          "base_uri": "https://localhost:8080/"
        },
        "id": "VUVPY4hV_xZS",
        "outputId": "652bc6f4-4436-497e-b4aa-e7f58ba56d60"
      },
      "execution_count": null,
      "outputs": [
        {
          "output_type": "stream",
          "name": "stdout",
          "text": [
            "  adding: content/ (stored 0%)\n",
            "  adding: content/.config/ (stored 0%)\n",
            "  adding: content/.config/config_sentinel (stored 0%)\n",
            "  adding: content/.config/logs/ (stored 0%)\n",
            "  adding: content/.config/logs/2025.02.28/ (stored 0%)\n",
            "  adding: content/.config/logs/2025.02.28/14.19.49.757968.log (deflated 57%)\n",
            "  adding: content/.config/logs/2025.02.28/14.19.04.338537.log (deflated 92%)\n",
            "  adding: content/.config/logs/2025.02.28/14.19.38.884709.log (deflated 87%)\n",
            "  adding: content/.config/logs/2025.02.28/14.19.50.413665.log (deflated 57%)\n",
            "  adding: content/.config/logs/2025.02.28/14.19.40.400850.log (deflated 58%)\n",
            "  adding: content/.config/logs/2025.02.28/14.19.29.493055.log (deflated 58%)\n",
            "  adding: content/.config/default_configs.db (deflated 98%)\n",
            "  adding: content/.config/active_config (stored 0%)\n",
            "  adding: content/.config/.last_survey_prompt.yaml (stored 0%)\n",
            "  adding: content/.config/hidden_gcloud_config_universe_descriptor_data_cache_configs.db (deflated 97%)\n",
            "  adding: content/.config/.last_opt_in_prompt.yaml (stored 0%)\n",
            "  adding: content/.config/configurations/ (stored 0%)\n",
            "  adding: content/.config/configurations/config_default (deflated 15%)\n",
            "  adding: content/.config/.last_update_check.json (deflated 22%)\n",
            "  adding: content/.config/gce (stored 0%)\n",
            "  adding: content/cococo_bigram_freq.csv (deflated 81%)\n",
            "  adding: content/.ipynb_checkpoints/ (stored 0%)\n",
            "  adding: content/cococo_unigram_freq.csv (deflated 68%)\n",
            "  adding: content/__MACOSX/ (stored 0%)\n",
            "  adding: content/__MACOSX/._cococo_unigram_freq.csv (deflated 46%)\n",
            "  adding: content/__MACOSX/._cococo_bigram_freq.csv (deflated 49%)\n",
            "  adding: content/t_scores.json (deflated 79%)\n",
            "  adding: content/Архив.zip (stored 0%)\n",
            "  adding: content/sample_data/ (stored 0%)\n",
            "  adding: content/sample_data/anscombe.json (deflated 83%)\n",
            "  adding: content/sample_data/README.md (deflated 39%)\n",
            "  adding: content/sample_data/california_housing_train.csv (deflated 79%)\n",
            "  adding: content/sample_data/mnist_train_small.csv (deflated 88%)\n",
            "  adding: content/sample_data/california_housing_test.csv (deflated 76%)\n",
            "  adding: content/sample_data/mnist_test.csv (deflated 88%)\n"
          ]
        }
      ]
    }
  ]
}